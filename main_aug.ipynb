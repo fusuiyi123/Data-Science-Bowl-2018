{
 "cells": [
  {
   "cell_type": "code",
   "execution_count": null,
   "metadata": {},
   "outputs": [],
   "source": [
    "# Data download and unzipping\n",
    "%%capture\n",
    "!wget https://raw.githubusercontent.com/AakashSudhakar/2018-data-science-bowl/master/compressed_files/stage1_test.zip -c\n",
    "!wget https://raw.githubusercontent.com/AakashSudhakar/2018-data-science-bowl/master/compressed_files/stage1_train.zip -c\n",
    "\n",
    "!mkdir stage1_train stage1_test\n",
    "\n",
    "!unzip stage1_train.zip -d stage1_train/\n",
    "!unzip stage1_test.zip -d stage1_test/"
   ]
  },
  {
   "cell_type": "code",
   "execution_count": null,
   "metadata": {},
   "outputs": [],
   "source": [
    "from google.colab import files\n",
    "uploaded = files.upload() # upload .py files"
   ]
  },
  {
   "cell_type": "code",
   "execution_count": null,
   "metadata": {},
   "outputs": [],
   "source": [
    "%%capture\n",
    "!pip install keras --upgrade"
   ]
  },
  {
   "cell_type": "code",
   "execution_count": null,
   "metadata": {},
   "outputs": [],
   "source": [
    "import os\n",
    "import random\n",
    "import sys\n",
    "import warnings\n",
    "import numpy as np\n",
    "import pandas as pd\n",
    "from skimage.io import imread, imshow, imread_collection, concatenate_images\n",
    "from skimage.transform import resize\n",
    "from keras.models import Model, load_model\n",
    "from keras import optimizers\n",
    "from keras.callbacks import ModelCheckpoint, EarlyStopping\n",
    "from sklearn.model_selection import train_test_split\n",
    "import matplotlib.pyplot as plt\n",
    "warnings.filterwarnings('ignore', category=UserWarning, module='skimage')\n",
    "\n",
    "# Setting seed for reproducability\n",
    "SEED = 42\n",
    "np.random.seed(SEED)\n",
    "%matplotlib inline"
   ]
  },
  {
   "cell_type": "code",
   "execution_count": null,
   "metadata": {},
   "outputs": [],
   "source": [
    "from data_utils import read_train_data, read_test_data, rle_encoding, mask_to_rle\n",
    "from model import get_unet, iou_metric, iou_metric_batch, my_iou_metric"
   ]
  },
  {
   "cell_type": "code",
   "execution_count": null,
   "metadata": {},
   "outputs": [],
   "source": [
    "# get train_data\n",
    "X_train,Y_train = read_train_data()\n",
    "# get test_data\n",
    "test_img,test_img_sizes = read_test_data()"
   ]
  },
  {
   "cell_type": "code",
   "execution_count": null,
   "metadata": {},
   "outputs": [],
   "source": [
    "#@title Hyperparameter { run: \"auto\", display-mode: \"both\" }\n",
    "BATCH_SIZE = 16 #@param {type:\"raw\"}\n",
    "EPOCHS = 50 #@param {type:\"raw\"}\n",
    "LEARNING_RATE = 1e-3 #@param {type:\"raw\"}\n",
    "OPTIMIZER = optimizers.Adam(lr=LEARNING_RATE) #@param {type:\"raw\"}\n",
    "val_size = 0.3 #@param {type:\"raw\"}"
   ]
  },
  {
   "cell_type": "code",
   "execution_count": null,
   "metadata": {},
   "outputs": [],
   "source": [
    "# train/val split\n",
    "train_img, val_img, train_mask, val_mask = train_test_split(X_train, Y_train, test_size=val_size, random_state=SEED)\n",
    "train_size = len(train_img)\n",
    "val_size = len(val_img)"
   ]
  },
  {
   "cell_type": "code",
   "execution_count": null,
   "metadata": {},
   "outputs": [],
   "source": [
    "from keras.preprocessing.image import ImageDataGenerator\n",
    "data_gen_arg = dict(shear_range=0.5, \n",
    "                    rotation_range=50, \n",
    "                    zoom_range=0.2, \n",
    "                    width_shift_range=0.2, \n",
    "                    height_shift_range=0.2,\n",
    "                    fill_mode='reflect')\n",
    "\n",
    "\n",
    "img_datagen = ImageDataGenerator(**data_gen_arg)\n",
    "mask_datagen = ImageDataGenerator(**data_gen_arg)\n",
    "img_datagen.fit(train_img, augment=True, seed=SEED)\n",
    "mask_datagen.fit(train_mask, augment=True, seed=SEED)\n",
    "\n",
    "x = img_datagen.flow(train_img, batch_size=BATCH_SIZE, shuffle=True, seed=SEED)\n",
    "y = mask_datagen.flow(train_mask, batch_size=BATCH_SIZE, shuffle=True, seed=SEED)\n",
    "\n",
    "img_datagen_val = ImageDataGenerator()\n",
    "mask_datagen_val = ImageDataGenerator()\n",
    "img_datagen_val.fit(val_img, augment=True, seed=SEED)\n",
    "mask_datagen_val.fit(val_mask, augment=True, seed=SEED)\n",
    "\n",
    "x_val = img_datagen_val.flow(val_img, batch_size=BATCH_SIZE, shuffle=True, seed=SEED)\n",
    "y_val = img_datagen_val.flow(val_mask, batch_size=BATCH_SIZE, shuffle=True, seed=SEED)\n",
    "\n",
    "train_generator = zip(x, y)\n",
    "val_generator = zip(x_val, y_val)"
   ]
  },
  {
   "cell_type": "code",
   "execution_count": null,
   "metadata": {},
   "outputs": [],
   "source": [
    "u_net_aug = get_unet(OPTIMIZER=OPTIMIZER)"
   ]
  },
  {
   "cell_type": "code",
   "execution_count": null,
   "metadata": {},
   "outputs": [],
   "source": [
    "print(\"Training...\\n\")\n",
    "filepath=\"best_model.h5\" # save best model only\n",
    "earlystopper = EarlyStopping(monitor='val_loss', patience=10, verbose=1)\n",
    "checkpointer = ModelCheckpoint(filepath, monitor='val_my_iou_metric', \n",
    "                               verbose=1, save_best_only=True, mode='max')\n",
    "results_aug = u_net_aug.fit_generator(train_generator, validation_data=(val_img, val_mask), \n",
    "                    steps_per_epoch=100, epochs=EPOCHS, callbacks=[earlystopper, checkpointer])"
   ]
  },
  {
   "cell_type": "code",
   "execution_count": null,
   "metadata": {},
   "outputs": [],
   "source": [
    "print(\"Training...\\n\")\n",
    "filepath=\"best_model.h5\" # save best model only\n",
    "earlystopper = EarlyStopping(monitor='val_loss', patience=10, verbose=1)\n",
    "checkpointer = ModelCheckpoint(filepath, monitor='val_my_iou_metric', \n",
    "                               verbose=1, save_best_only=True, mode='max')\n",
    "results_aug = u_net_aug.fit_generator(train_generator, validation_data=val_generator, \n",
    "                    steps_per_epoch=100, validation_steps=10,\n",
    "                   epochs=EPOCHS, callbacks=[earlystopper, checkpointer])"
   ]
  }
 ],
 "metadata": {
  "kernelspec": {
   "display_name": "Python 3",
   "language": "python",
   "name": "python3"
  },
  "language_info": {
   "codemirror_mode": {
    "name": "ipython",
    "version": 3
   },
   "file_extension": ".py",
   "mimetype": "text/x-python",
   "name": "python",
   "nbconvert_exporter": "python",
   "pygments_lexer": "ipython3",
   "version": "3.6.4"
  }
 },
 "nbformat": 4,
 "nbformat_minor": 2
}
