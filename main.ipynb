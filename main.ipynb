{
 "cells": [
  {
   "cell_type": "code",
   "execution_count": null,
   "metadata": {},
   "outputs": [],
   "source": [
    "# Data download and unzipping\n",
    "!wget https://raw.githubusercontent.com/AakashSudhakar/2018-data-science-bowl/master/compressed_files/stage1_test.zip -c\n",
    "!wget https://raw.githubusercontent.com/AakashSudhakar/2018-data-science-bowl/master/compressed_files/stage1_train.zip -c\n",
    "\n",
    "!mkdir stage1_train stage1_test\n",
    "\n",
    "!unzip stage1_train.zip -d stage1_train/\n",
    "!unzip stage1_test.zip -d stage1_test/"
   ]
  },
  {
   "cell_type": "code",
   "execution_count": null,
   "metadata": {},
   "outputs": [],
   "source": [
    "from google.colab import files\n",
    "# upload .py files\n",
    "uploaded = files.upload()"
   ]
  },
  {
   "cell_type": "code",
   "execution_count": null,
   "metadata": {},
   "outputs": [],
   "source": [
    "!pip install keras --upgrade"
   ]
  },
  {
   "cell_type": "code",
   "execution_count": null,
   "metadata": {},
   "outputs": [],
   "source": [
    "import os\n",
    "import random\n",
    "import sys\n",
    "import warnings\n",
    "import numpy as np\n",
    "import pandas as pd\n",
    "from skimage.io import imread, imshow, imread_collection, concatenate_images\n",
    "from skimage.transform import resize\n",
    "\n",
    "from keras.models import Model, load_model\n",
    "from keras import optimizers\n",
    "from keras.callbacks import ModelCheckpoint, EarlyStopping\n",
    "from sklearn.model_selection import train_test_split\n",
    "import matplotlib.pyplot as plt\n",
    "warnings.filterwarnings('ignore', category=UserWarning, module='skimage')\n",
    "\n",
    "# Setting seed for reproducability\n",
    "SEED = 42\n",
    "np.random.seed(SEED)\n",
    "%matplotlib inline"
   ]
  },
  {
   "cell_type": "code",
   "execution_count": null,
   "metadata": {},
   "outputs": [],
   "source": [
    "from data_utils import read_train_data, read_test_data, rle_encoding, mask_to_rle"
   ]
  },
  {
   "cell_type": "code",
   "execution_count": null,
   "metadata": {},
   "outputs": [],
   "source": [
    "# get train_data\n",
    "X_train,Y_train = read_train_data()\n",
    "# get test_data\n",
    "test_img,test_img_sizes = read_test_data()\n",
    "\n",
    "train_img, val_img, train_mask, val_mask = train_test_split(X_train, Y_train, test_size=0.25, random_state=SEED)\n",
    "\n",
    "train_size = len(train_img)\n",
    "val_size = len(val_img)"
   ]
  },
  {
   "cell_type": "code",
   "execution_count": null,
   "metadata": {},
   "outputs": [],
   "source": [
    "# get u_net model\n",
    "u_net = get_unet(OPTIMIZER=optimizers.Adam(lr=LEARNING_RATE))\n",
    "# u_net.summary()"
   ]
  },
  {
   "cell_type": "markdown",
   "metadata": {},
   "source": [
    "### Training"
   ]
  },
  {
   "cell_type": "code",
   "execution_count": null,
   "metadata": {},
   "outputs": [],
   "source": [
    "print(\"\\nTraining...\")\n",
    "filepath=\"best_model.h5\" # save best model only\n",
    "earlystopper = EarlyStopping(monitor='val_loss', patience=5, verbose=1)\n",
    "checkpointer = ModelCheckpoint(filepath, monitor='val_my_iou_metric', \n",
    "                               verbose=1, save_best_only=True, mode='max')\n",
    "results = u_net.fit(x=train_img, y=train_mask, validation_data=(val_img, val_mask), \n",
    "                   batch_size=BATCH_SIZE, epochs=EPOCHS, verbose=1, \n",
    "                   callbacks=[earlystopper, checkpointer])"
   ]
  },
  {
   "cell_type": "markdown",
   "metadata": {},
   "source": [
    "### Plot training history"
   ]
  },
  {
   "cell_type": "code",
   "execution_count": null,
   "metadata": {},
   "outputs": [],
   "source": [
    "loss = results.history['loss']\n",
    "val_loss = result.history['val_loss']\n",
    "acc = result.history['my_iou_metric']\n",
    "val_acc = result.history['val_my_iou_metric']\n",
    "plt.figure()\n",
    "plt.plot(np.arange(len(loss)), np.array(loss), label='train loss')\n",
    "plt.plot(np.arange(len(val_loss)), np.array(val_loss), label='val loss')\n",
    "plt.legend(loc=1)\n",
    "\n",
    "plt.figure()\n",
    "plt.plot(np.arange(len(acc)), np.array(acc), label='train iou')\n",
    "plt.plot(np.arange(len(val_acc)), np.array(val_acc), label='val iou')\n",
    "plt.legend(loc=4)"
   ]
  },
  {
   "cell_type": "markdown",
   "metadata": {},
   "source": [
    "### Load best model and evaluate"
   ]
  },
  {
   "cell_type": "code",
   "execution_count": null,
   "metadata": {},
   "outputs": [],
   "source": [
    "best_model = load_model('weights.best.hdf5', custom_objects={'my_iou_metric': my_iou_metric})\n",
    "print('Predicting...')\n",
    "train_pred = best_model.predict(train_img, verbose=1)\n",
    "val_pred = best_model.predict(val_img, verbose=1)\n",
    "test_pred = best_model.predict(test_img, verbose=1)\n",
    "train_iou = iou_metric_batch(train_mask, train_pred)\n",
    "val_iou = iou_metric_batch(val_mask, val_pred)\n",
    "print('Best train IOU = ', train_iou)\n",
    "print('Best val IOU = ', val_iou)"
   ]
  },
  {
   "cell_type": "markdown",
   "metadata": {},
   "source": [
    "### Visualizations"
   ]
  },
  {
   "cell_type": "code",
   "execution_count": null,
   "metadata": {},
   "outputs": [],
   "source": [
    "idx = np.random.choice(range(len(val_img)))\n",
    "plt.figure(figsize=(12,12))\n",
    "plt.subplot(131)\n",
    "imshow(val_img[idx])\n",
    "plt.title(\"val image\")\n",
    "plt.subplot(132)\n",
    "imshow(np.squeeze(val_mask[idx]))\n",
    "plt.title(\"val mask\")\n",
    "plt.subplot(133)\n",
    "imshow(np.squeeze(pred_val[idx] > 0.5))\n",
    "plt.title(\"val predictions\")\n",
    "plt.show()"
   ]
  },
  {
   "cell_type": "code",
   "execution_count": null,
   "metadata": {},
   "outputs": [],
   "source": [
    "idx = np.random.choice(range(len(test_img)))\n",
    "plt.figure(figsize=(12,12))\n",
    "plt.subplot(121)\n",
    "imshow(test_img[idx])\n",
    "plt.title(\"Image\")\n",
    "plt.subplot(122)\n",
    "imshow(np.squeeze(pred_test[idx] > 0.5))\n",
    "plt.title(\"Mask Prediction\")\n",
    "plt.show()"
   ]
  },
  {
   "cell_type": "markdown",
   "metadata": {},
   "source": [
    "### Submission"
   ]
  },
  {
   "cell_type": "code",
   "execution_count": null,
   "metadata": {},
   "outputs": [],
   "source": [
    "# Create list of upsampled test masks\n",
    "test_mask_upsampled = []\n",
    "for i in range(len(pred_test)):\n",
    "    test_mask_upsampled.append(resize(np.squeeze(pred_test[i]),\n",
    "                                       (test_img_sizes[i][0],test_img_sizes[i][1]), \n",
    "                                       mode='constant', preserve_range=True))"
   ]
  },
  {
   "cell_type": "code",
   "execution_count": 1,
   "metadata": {},
   "outputs": [
    {
     "ename": "NameError",
     "evalue": "name 'mask_to_rle' is not defined",
     "output_type": "error",
     "traceback": [
      "\u001b[0;31m---------------------------------------------------------------------------\u001b[0m",
      "\u001b[0;31mNameError\u001b[0m                                 Traceback (most recent call last)",
      "\u001b[0;32m<ipython-input-1-ec4332a066fb>\u001b[0m in \u001b[0;36m<module>\u001b[0;34m()\u001b[0m\n\u001b[0;32m----> 1\u001b[0;31m \u001b[0mtest_ids\u001b[0m\u001b[0;34m,\u001b[0m\u001b[0mrles\u001b[0m \u001b[0;34m=\u001b[0m \u001b[0mmask_to_rle\u001b[0m\u001b[0;34m(\u001b[0m\u001b[0mtest_mask_upsampled\u001b[0m\u001b[0;34m)\u001b[0m\u001b[0;34m\u001b[0m\u001b[0m\n\u001b[0m",
      "\u001b[0;31mNameError\u001b[0m: name 'mask_to_rle' is not defined"
     ]
    }
   ],
   "source": [
    "test_ids,rles = mask_to_rle(test_mask_upsampled)"
   ]
  },
  {
   "cell_type": "code",
   "execution_count": null,
   "metadata": {},
   "outputs": [],
   "source": [
    "# Create submission DataFrame\n",
    "sub = pd.DataFrame()\n",
    "sub['ImageId'] = test_ids\n",
    "sub['EncodedPixels'] = pd.Series(rles).apply(lambda x: ' '.join(str(y) for y in x))\n",
    "\n",
    "sub.to_csv('sub-dsbowl2018.csv', index=False)"
   ]
  },
  {
   "cell_type": "code",
   "execution_count": null,
   "metadata": {},
   "outputs": [],
   "source": [
    "# Code to download files from Google colab\n",
    "\n",
    "from google.colab import files\n",
    "files.download('sub-dsbowl2018.csv')\n",
    "files.download('best_model.h5')"
   ]
  }
 ],
 "metadata": {
  "kernelspec": {
   "display_name": "Python 3",
   "language": "python",
   "name": "python3"
  },
  "language_info": {
   "codemirror_mode": {
    "name": "ipython",
    "version": 3
   },
   "file_extension": ".py",
   "mimetype": "text/x-python",
   "name": "python",
   "nbconvert_exporter": "python",
   "pygments_lexer": "ipython3",
   "version": "3.6.4"
  }
 },
 "nbformat": 4,
 "nbformat_minor": 2
}
