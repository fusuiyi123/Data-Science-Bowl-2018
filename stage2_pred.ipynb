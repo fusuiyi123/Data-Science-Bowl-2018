{
  "nbformat": 4,
  "nbformat_minor": 0,
  "metadata": {
    "colab": {
      "name": "stage2_pred.ipynb",
      "version": "0.3.2",
      "views": {},
      "default_view": {},
      "provenance": [],
      "collapsed_sections": []
    },
    "kernelspec": {
      "display_name": "Python 3",
      "language": "python",
      "name": "python3"
    },
    "accelerator": "GPU"
  },
  "cells": [
    {
      "metadata": {
        "id": "sEYDUMB_LNPc",
        "colab_type": "code",
        "colab": {
          "autoexec": {
            "startup": false,
            "wait_interval": 0
          }
        }
      },
      "cell_type": "code",
      "source": [
        "# Data download and unzipping for stage2\n",
        "%%capture\n",
        "!pip install kaggle\n",
        "!mv kaggle.json .kaggle/\n",
        "!kaggle competitions download -c data-science-bowl-2018 -f stage2_test_final.zip\n",
        "\n",
        "!mkdir stage2_test_final\n",
        "!unzip .kaggle/competitions/data-science-bowl-2018/stage2_test_final.zip -d stage2_test_final/"
      ],
      "execution_count": 0,
      "outputs": []
    },
    {
      "metadata": {
        "id": "GCb0ihDaCTWY",
        "colab_type": "code",
        "colab": {
          "autoexec": {
            "startup": false,
            "wait_interval": 0
          },
          "base_uri": "https://localhost:8080/",
          "height": 69
        },
        "outputId": "c8d88ad6-1296-4957-aab8-65dd202ab6b2",
        "executionInfo": {
          "status": "ok",
          "timestamp": 1524413014859,
          "user_tz": 300,
          "elapsed": 74689,
          "user": {
            "displayName": "Suiyi Fu",
            "photoUrl": "//lh4.googleusercontent.com/-T0YYqLtiLj8/AAAAAAAAAAI/AAAAAAAAAIw/fU_S3Yy9EtU/s50-c-k-no/photo.jpg",
            "userId": "115751399754875551592"
          }
        }
      },
      "cell_type": "code",
      "source": [
        "import os\n",
        "import sys\n",
        "import warnings\n",
        "import numpy as np\n",
        "from skimage.io import imread, imshow, imread_collection, concatenate_images\n",
        "from skimage.transform import resize\n",
        "from skimage.morphology import label\n",
        "from keras.utils import Progbar\n",
        "from keras.models import load_model\n",
        "from model import get_unet, iou_metric, iou_metric_batch, my_iou_metric\n",
        "warnings.filterwarnings('ignore', category=UserWarning, module='skimage')\n",
        "\n",
        "SEED = 42\n",
        "np.random.seed(SEED)\n",
        "\n",
        "\n",
        "TEST_PATH = 'stage2_test_final/'\n",
        "test_ids = next(os.walk(TEST_PATH))[1]\n",
        "\n",
        "b = Progbar(len(test_ids))\n",
        "\n",
        "X_test = np.zeros((len(test_ids), 256, 256, 3), dtype=np.uint8)\n",
        "sizes_test = []\n",
        "for n, id_ in enumerate(test_ids):\n",
        "    path = TEST_PATH + id_\n",
        "    img = imread(path + '/images/' + id_ + '.png')\n",
        "    if len(img.shape) >= 3:\n",
        "        img = img[:, :, :3]\n",
        "    sizes_test.append([img.shape[0], img.shape[1]])\n",
        "    img = resize(img, (256, 256), mode='constant', preserve_range=True)\n",
        "    X_test[n] = img if len(img.shape) >=3 else img[:,:,np.newaxis]\n",
        "    b.update(n)\n",
        "\n",
        "\n",
        "def rle_encoding(x):\n",
        "    dots = np.where(x.T.flatten() == 1)[0]\n",
        "    run_lengths = []\n",
        "    prev = -2\n",
        "    for b in dots:\n",
        "        if b > prev + 1: run_lengths.extend((b + 1, 0))\n",
        "        run_lengths[-1] += 1\n",
        "        prev = b\n",
        "    return run_lengths\n",
        "\n",
        "\n",
        "# Threshold = 0.5\n",
        "def prob_to_rles(x, cutoff=0.5):\n",
        "    lab_img = label(x > cutoff)\n",
        "    for i in range(1, lab_img.max() + 1):\n",
        "        yield rle_encoding(lab_img == i)\n",
        "\n",
        "\n",
        "# Iterate over the test IDs and generate run-length encodings for each separate mask identified by skimage\n",
        "\n",
        "def mask_to_rle(preds_test_upsampled):\n",
        "    new_test_ids = []\n",
        "    rles = []\n",
        "    for n, id_ in enumerate(test_ids):\n",
        "        rle = list(prob_to_rles(preds_test_upsampled[n]))\n",
        "        rles.extend(rle)\n",
        "        new_test_ids.extend([id_] * len(rle))\n",
        "        b.update(n)\n",
        "    return new_test_ids, rles"
      ],
      "execution_count": 0,
      "outputs": [
        {
          "output_type": "stream",
          "text": [
            "Using TensorFlow backend.\n"
          ],
          "name": "stderr"
        },
        {
          "output_type": "stream",
          "text": [
            "3019\n",
            "3018/3019 [============================>.] - ETA: 0s"
          ],
          "name": "stdout"
        }
      ]
    },
    {
      "metadata": {
        "id": "p9hHkUblCmsR",
        "colab_type": "code",
        "colab": {
          "autoexec": {
            "startup": false,
            "wait_interval": 0
          },
          "base_uri": "https://localhost:8080/",
          "height": 35
        },
        "outputId": "26e21500-4753-4de6-894f-b119c57fbba3",
        "executionInfo": {
          "status": "ok",
          "timestamp": 1524413170344,
          "user_tz": 300,
          "elapsed": 30359,
          "user": {
            "displayName": "Suiyi Fu",
            "photoUrl": "//lh4.googleusercontent.com/-T0YYqLtiLj8/AAAAAAAAAAI/AAAAAAAAAIw/fU_S3Yy9EtU/s50-c-k-no/photo.jpg",
            "userId": "115751399754875551592"
          }
        }
      },
      "cell_type": "code",
      "source": [
        "best_model = load_model('best_aug_model.h5', custom_objects={'my_iou_metric': my_iou_metric})\n",
        "stage2_test_pred = best_model.predict(X_test, verbose=1)\n"
      ],
      "execution_count": 0,
      "outputs": [
        {
          "output_type": "stream",
          "text": [
            "3019/3019 [==============================] - 25s 8ms/step\n"
          ],
          "name": "stdout"
        }
      ]
    },
    {
      "metadata": {
        "id": "dBjEHp60Ibzl",
        "colab_type": "code",
        "colab": {
          "autoexec": {
            "startup": false,
            "wait_interval": 0
          }
        }
      },
      "cell_type": "code",
      "source": [
        "# Create list of upsampled test masks\n",
        "test_mask_upsampled = []\n",
        "for i in range(len(stage2_test_pred)):\n",
        "    test_mask_upsampled.append(resize(np.squeeze(stage2_test_pred[i]),\n",
        "                                       (sizes_test[i][0],sizes_test[i][1]), \n",
        "                                       mode='constant', preserve_range=True))"
      ],
      "execution_count": 0,
      "outputs": []
    },
    {
      "metadata": {
        "id": "f9oIezn0IzHH",
        "colab_type": "code",
        "colab": {
          "autoexec": {
            "startup": false,
            "wait_interval": 0
          }
        }
      },
      "cell_type": "code",
      "source": [
        "new_test_ids,rles = mask_to_rle(test_mask_upsampled)"
      ],
      "execution_count": 0,
      "outputs": []
    },
    {
      "metadata": {
        "id": "g9rKZ3KtI1nq",
        "colab_type": "code",
        "colab": {
          "autoexec": {
            "startup": false,
            "wait_interval": 0
          }
        }
      },
      "cell_type": "code",
      "source": [
        "# Create submission DataFrame\n",
        "import pandas as pd\n",
        "sub = pd.DataFrame()\n",
        "sub['ImageId'] = new_test_ids\n",
        "sub['EncodedPixels'] = pd.Series(rles).apply(lambda x: ' '.join(str(y) for y in x))\n",
        "\n",
        "sub.to_csv('sub-dsbowl2018.csv', index=False)"
      ],
      "execution_count": 0,
      "outputs": []
    }
  ]
}