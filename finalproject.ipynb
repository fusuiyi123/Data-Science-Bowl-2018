{
 "cells": [
  {
   "cell_type": "code",
   "execution_count": null,
   "metadata": {
    "colab": {
     "autoexec": {
      "startup": false,
      "wait_interval": 0
     },
     "base_uri": "https://localhost:8080/",
     "height": 375,
     "output_extras": [
      {
       "item_id": 16
      }
     ]
    },
    "colab_type": "code",
    "executionInfo": {
     "elapsed": 19331,
     "status": "ok",
     "timestamp": 1521307264623,
     "user": {
      "displayName": "Suiyi Fu",
      "photoUrl": "//lh4.googleusercontent.com/-T0YYqLtiLj8/AAAAAAAAAAI/AAAAAAAAAIw/fU_S3Yy9EtU/s50-c-k-no/photo.jpg",
      "userId": "115751399754875551592"
     },
     "user_tz": 300
    },
    "id": "xiG1KCkclesd",
    "outputId": "a6d4f621-bded-4709-ebb1-8db8f9debb88"
   },
   "outputs": [],
   "source": [
    "!pip install keras --upgrade"
   ]
  },
  {
   "cell_type": "code",
   "execution_count": null,
   "metadata": {
    "colab": {
     "autoexec": {
      "startup": false,
      "wait_interval": 0
     }
    },
    "colab_type": "code",
    "id": "JtxN2KrBlesg"
   },
   "outputs": [],
   "source": [
    "import os\n",
    "import random\n",
    "import sys\n",
    "import warnings\n",
    "import numpy as np\n",
    "import pandas as pd\n",
    "from itertools import chain\n",
    "from skimage.io import imread, imshow, imread_collection, concatenate_images\n",
    "from skimage.transform import resize\n",
    "from skimage.morphology import label\n",
    "from keras.utils import Progbar\n",
    "\n",
    "from keras.models import Model, load_model\n",
    "from keras.layers import Input\n",
    "from keras.layers.core import Dropout, Lambda\n",
    "from keras.layers.convolutional import Conv2D, Conv2DTranspose,Convolution2D\n",
    "from keras.layers.pooling import MaxPooling2D\n",
    "from keras.layers.merge import concatenate\n",
    "from keras import optimizers\n",
    "from keras.callbacks import ModelCheckpoint, EarlyStopping\n",
    "from keras import backend as K\n",
    "\n",
    "import tensorflow as tf\n",
    "warnings.filterwarnings('ignore', category=UserWarning, module='skimage')\n",
    "\n",
    "# Setting seed for reproducability\n",
    "SEED = 42\n",
    "np.random.seed(SEED)"
   ]
  },
  {
   "cell_type": "code",
   "execution_count": null,
   "metadata": {
    "colab": {
     "autoexec": {
      "startup": false,
      "wait_interval": 0
     },
     "base_uri": "https://localhost:8080/",
     "height": 103,
     "output_extras": [
      {
       "item_id": 1
      }
     ]
    },
    "colab_type": "code",
    "executionInfo": {
     "elapsed": 1055,
     "status": "ok",
     "timestamp": 1521335463769,
     "user": {
      "displayName": "Suiyi Fu",
      "photoUrl": "//lh4.googleusercontent.com/-T0YYqLtiLj8/AAAAAAAAAAI/AAAAAAAAAIw/fU_S3Yy9EtU/s50-c-k-no/photo.jpg",
      "userId": "115751399754875551592"
     },
     "user_tz": 300
    },
    "id": "p2m6Fo6Wles9",
    "outputId": "6979c1ba-19f1-4616-a715-ca179a88bce4"
   },
   "outputs": [],
   "source": [
    "# get train_data\n",
    "X_train,Y_train = read_train_data()\n",
    "# get test_data\n",
    "test_img,test_img_sizes = read_test_data()\n",
    "\n",
    "from sklearn.model_selection import train_test_split\n",
    "train_img, val_img, train_mask, val_mask = train_test_split(X_train, Y_train, test_size=0.25, random_state=SEED)\n",
    "\n",
    "train_size = len(train_img)\n",
    "val_size = len(val_img)"
   ]
  },
  {
   "cell_type": "code",
   "execution_count": null,
   "metadata": {
    "cellView": "form",
    "colab": {
     "autoexec": {
      "startup": false,
      "wait_interval": 0
     }
    },
    "colab_type": "code",
    "id": "Ny9P1VJPKkgC"
   },
   "outputs": [],
   "source": [
    "#@title Hyperparameters { run: \"auto\" }\n",
    "BATCH_SIZE = 16 #@param {type:\"integer\"}\n",
    "EPOCHS = 50 #@param {type:\"integer\"}\n",
    "LEARNING_RATE = 1e-3 #@param {type:\"raw\"}\n",
    "OPTIMIZER = optimizers.Adam(lr=LEARNING_RATE) #@param {type:\"raw\"}"
   ]
  },
  {
   "cell_type": "code",
   "execution_count": null,
   "metadata": {
    "colab": {
     "autoexec": {
      "startup": false,
      "wait_interval": 0
     }
    },
    "colab_type": "code",
    "id": "8f7OxTkbles4"
   },
   "outputs": [],
   "source": [
    "def get_unet(IMG_WIDTH=256,IMG_HEIGHT=256,IMG_CHANNELS=3):\n",
    "    inputs = Input((IMG_HEIGHT, IMG_WIDTH, IMG_CHANNELS))\n",
    "    s = Lambda(lambda x: x / 255) (inputs)\n",
    "    c1 = Conv2D(16, (3, 3), activation='relu', kernel_initializer='he_normal', padding='same') (s)\n",
    "    c1 = Dropout(0.1) (c1)\n",
    "    c1 = Conv2D(16, (3, 3), activation='relu', kernel_initializer='he_normal', padding='same') (c1)\n",
    "    p1 = MaxPooling2D((2, 2)) (c1)\n",
    "    c2 = Conv2D(32, (3, 3), activation='relu', kernel_initializer='he_normal', padding='same') (p1)\n",
    "    c2 = Dropout(0.1) (c2)\n",
    "    c2 = Conv2D(32, (3, 3), activation='relu', kernel_initializer='he_normal', padding='same') (c2)\n",
    "    p2 = MaxPooling2D((2, 2)) (c2)\n",
    "\n",
    "    c3 = Conv2D(64, (3, 3), activation='relu', kernel_initializer='he_normal', padding='same') (p2)\n",
    "    c3 = Dropout(0.2) (c3)\n",
    "    c3 = Conv2D(64, (3, 3), activation='relu', kernel_initializer='he_normal', padding='same') (c3)\n",
    "    p3 = MaxPooling2D((2, 2)) (c3)\n",
    "\n",
    "    c4 = Conv2D(128, (3, 3), activation='relu', kernel_initializer='he_normal', padding='same') (p3)\n",
    "    c4 = Dropout(0.2) (c4)\n",
    "    c4 = Conv2D(128, (3, 3), activation='relu', kernel_initializer='he_normal', padding='same') (c4)\n",
    "    p4 = MaxPooling2D(pool_size=(2, 2)) (c4)\n",
    "\n",
    "    c5 = Conv2D(256, (3, 3), activation='relu', kernel_initializer='he_normal', padding='same') (p4)\n",
    "    c5 = Dropout(0.3) (c5)\n",
    "    c5 = Conv2D(256, (3, 3), activation='relu', kernel_initializer='he_normal', padding='same') (c5)\n",
    "\n",
    "    u6 = Conv2DTranspose(128, (2, 2), strides=(2, 2), padding='same') (c5)\n",
    "    u6 = concatenate([u6, c4])\n",
    "    c6 = Conv2D(128, (3, 3), activation='relu', kernel_initializer='he_normal', padding='same') (u6)\n",
    "    c6 = Dropout(0.2) (c6)\n",
    "    c6 = Conv2D(128, (3, 3), activation='relu', kernel_initializer='he_normal', padding='same') (c6)\n",
    "\n",
    "    u7 = Conv2DTranspose(64, (2, 2), strides=(2, 2), padding='same') (c6)\n",
    "    u7 = concatenate([u7, c3])\n",
    "    c7 = Conv2D(64, (3, 3), activation='relu', kernel_initializer='he_normal', padding='same') (u7)\n",
    "    c7 = Dropout(0.2) (c7)\n",
    "    c7 = Conv2D(64, (3, 3), activation='relu', kernel_initializer='he_normal', padding='same') (c7)\n",
    "\n",
    "    u8 = Conv2DTranspose(32, (2, 2), strides=(2, 2), padding='same') (c7)\n",
    "    u8 = concatenate([u8, c2])\n",
    "    c8 = Conv2D(32, (3, 3), activation='relu', kernel_initializer='he_normal', padding='same') (u8)\n",
    "    c8 = Dropout(0.1) (c8)\n",
    "    c8 = Conv2D(32, (3, 3), activation='relu', kernel_initializer='he_normal', padding='same') (c8)\n",
    "\n",
    "    u9 = Conv2DTranspose(16, (2, 2), strides=(2, 2), padding='same') (c8)\n",
    "    u9 = concatenate([u9, c1], axis=3)\n",
    "    c9 = Conv2D(16, (3, 3), activation='relu', kernel_initializer='he_normal', padding='same') (u9)\n",
    "    c9 = Dropout(0.1) (c9)\n",
    "    c9 = Conv2D(16, (3, 3), activation='relu', kernel_initializer='he_normal', padding='same') (c9)\n",
    "\n",
    "    outputs = Conv2D(1, (1, 1), activation='sigmoid') (c9)\n",
    "    model = Model(inputs=[inputs], outputs=[outputs])\n",
    "    model.compile(optimizer=OPTIMIZER,loss='binary_crossentropy', metrics=[my_iou_metric])\n",
    "    return model"
   ]
  },
  {
   "cell_type": "code",
   "execution_count": null,
   "metadata": {
    "colab": {
     "autoexec": {
      "startup": false,
      "wait_interval": 0
     },
     "base_uri": "https://localhost:8080/",
     "height": 1633,
     "output_extras": [
      {
       "item_id": 1
      }
     ]
    },
    "colab_type": "code",
    "executionInfo": {
     "elapsed": 1067,
     "status": "ok",
     "timestamp": 1521335545484,
     "user": {
      "displayName": "Suiyi Fu",
      "photoUrl": "//lh4.googleusercontent.com/-T0YYqLtiLj8/AAAAAAAAAAI/AAAAAAAAAIw/fU_S3Yy9EtU/s50-c-k-no/photo.jpg",
      "userId": "115751399754875551592"
     },
     "user_tz": 300
    },
    "id": "2xkqiSUZletA",
    "outputId": "aa54f008-2a43-4d96-f5de-78f656b92380"
   },
   "outputs": [],
   "source": [
    "# get u_net model\n",
    "u_net = get_unet()\n",
    "u_net.summary()"
   ]
  },
  {
   "cell_type": "markdown",
   "metadata": {
    "colab_type": "text",
    "id": "YhWZFyxzE7QW"
   },
   "source": [
    "Fit model on train data and save the best model."
   ]
  },
  {
   "cell_type": "code",
   "execution_count": null,
   "metadata": {
    "colab": {
     "autoexec": {
      "startup": false,
      "wait_interval": 0
     },
     "base_uri": "https://localhost:8080/",
     "height": 3030,
     "output_extras": [
      {
       "item_id": 112
      },
      {
       "item_id": 208
      },
      {
       "item_id": 320
      },
      {
       "item_id": 445
      },
      {
       "item_id": 550
      },
      {
       "item_id": 649
      },
      {
       "item_id": 747
      },
      {
       "item_id": 848
      },
      {
       "item_id": 943
      }
     ]
    },
    "colab_type": "code",
    "executionInfo": {
     "elapsed": 896875,
     "status": "ok",
     "timestamp": 1521336453436,
     "user": {
      "displayName": "Suiyi Fu",
      "photoUrl": "//lh4.googleusercontent.com/-T0YYqLtiLj8/AAAAAAAAAAI/AAAAAAAAAIw/fU_S3Yy9EtU/s50-c-k-no/photo.jpg",
      "userId": "115751399754875551592"
     },
     "user_tz": 300
    },
    "id": "qUj7qDikletD",
    "outputId": "28178978-d5ea-4900-ad49-deacdbb0c9e3"
   },
   "outputs": [],
   "source": [
    "print(\"\\nTraining...\")\n",
    "filepath=\"weights.best.hdf5\"\n",
    "earlystopper = EarlyStopping(monitor='val_loss', patience=5, verbose=1)\n",
    "checkpointer = ModelCheckpoint(filepath, monitor='val_my_iou_metric', \n",
    "                               verbose=1, save_best_only=True, mode='max')\n",
    "results = u_net.fit(x=train_img, y=train_mask, validation_data=(val_img, val_mask), \n",
    "                   batch_size=BATCH_SIZE, epochs=EPOCHS, verbose=1, \n",
    "                   callbacks=[earlystopper, checkpointer])"
   ]
  },
  {
   "cell_type": "code",
   "execution_count": null,
   "metadata": {
    "colab": {
     "autoexec": {
      "startup": false,
      "wait_interval": 0
     },
     "base_uri": "https://localhost:8080/",
     "height": 531,
     "output_extras": [
      {
       "item_id": 1
      },
      {
       "item_id": 2
      },
      {
       "item_id": 3
      }
     ]
    },
    "colab_type": "code",
    "executionInfo": {
     "elapsed": 1258,
     "status": "ok",
     "timestamp": 1521336530646,
     "user": {
      "displayName": "Suiyi Fu",
      "photoUrl": "//lh4.googleusercontent.com/-T0YYqLtiLj8/AAAAAAAAAAI/AAAAAAAAAIw/fU_S3Yy9EtU/s50-c-k-no/photo.jpg",
      "userId": "115751399754875551592"
     },
     "user_tz": 300
    },
    "id": "RfcqgRH1uQpU",
    "outputId": "8154a0c6-2730-4281-cf8d-25c490f68762"
   },
   "outputs": [],
   "source": [
    "%matplotlib inline\n",
    "import matplotlib.pyplot as plt \n",
    "loss = results.history['loss']\n",
    "val_loss = result.history['val_loss']\n",
    "acc = result.history['my_iou_metric']\n",
    "val_acc = result.history['val_my_iou_metric']\n",
    "plt.figure()\n",
    "plt.plot(np.arange(len(loss)), np.array(loss), label='train loss')\n",
    "plt.plot(np.arange(len(val_loss)), np.array(val_loss), label='val loss')\n",
    "plt.legend(loc=1)\n",
    "\n",
    "plt.figure()\n",
    "plt.plot(np.arange(len(acc)), np.array(acc), label='train acc')\n",
    "plt.plot(np.arange(len(val_acc)), np.array(val_acc), label='val acc')\n",
    "plt.legend(loc=4)"
   ]
  },
  {
   "cell_type": "markdown",
   "metadata": {
    "colab_type": "text",
    "id": "CP2aJYrQFM6q"
   },
   "source": [
    "# Plot train/val loss and train/val mean_iou"
   ]
  },
  {
   "cell_type": "code",
   "execution_count": null,
   "metadata": {
    "colab": {
     "autoexec": {
      "startup": false,
      "wait_interval": 0
     },
     "base_uri": "https://localhost:8080/",
     "height": 531,
     "output_extras": [
      {
       "item_id": 1
      },
      {
       "item_id": 2
      },
      {
       "item_id": 3
      }
     ]
    },
    "colab_type": "code",
    "executionInfo": {
     "elapsed": 1144,
     "status": "ok",
     "timestamp": 1521325098036,
     "user": {
      "displayName": "Suiyi Fu",
      "photoUrl": "//lh4.googleusercontent.com/-T0YYqLtiLj8/AAAAAAAAAAI/AAAAAAAAAIw/fU_S3Yy9EtU/s50-c-k-no/photo.jpg",
      "userId": "115751399754875551592"
     },
     "user_tz": 300
    },
    "id": "CQnnhd1ljpLV",
    "outputId": "cab83971-1cd1-4c6a-e9ad-5b36f271d114"
   },
   "outputs": [],
   "source": [
    "%matplotlib inline\n",
    "import matplotlib.pyplot as plt \n",
    "loss = results.history['loss']\n",
    "val_loss = result.history['val_loss']\n",
    "acc = result.history['my_iou_metric']\n",
    "val_acc = result.history['val_my_iou_metric']\n",
    "plt.figure()\n",
    "plt.plot(np.arange(len(loss)), np.array(loss), label='train loss')\n",
    "plt.plot(np.arange(len(val_loss)), np.array(val_loss), label='val loss')\n",
    "plt.legend(loc=1)\n",
    "\n",
    "plt.figure()\n",
    "plt.plot(np.arange(len(acc)), np.array(acc), label='train acc')\n",
    "plt.plot(np.arange(len(val_acc)), np.array(val_acc), label='val acc')\n",
    "plt.legend(loc=4)"
   ]
  },
  {
   "cell_type": "markdown",
   "metadata": {
    "colab_type": "text",
    "id": "f39CYSsFFVJ5"
   },
   "source": [
    "# load best model and predict"
   ]
  },
  {
   "cell_type": "code",
   "execution_count": null,
   "metadata": {
    "colab": {
     "autoexec": {
      "startup": false,
      "wait_interval": 0
     },
     "base_uri": "https://localhost:8080/",
     "height": 86,
     "output_extras": [
      {
       "item_id": 21
      }
     ]
    },
    "colab_type": "code",
    "executionInfo": {
     "elapsed": 16581,
     "status": "ok",
     "timestamp": 1521336628080,
     "user": {
      "displayName": "Suiyi Fu",
      "photoUrl": "//lh4.googleusercontent.com/-T0YYqLtiLj8/AAAAAAAAAAI/AAAAAAAAAIw/fU_S3Yy9EtU/s50-c-k-no/photo.jpg",
      "userId": "115751399754875551592"
     },
     "user_tz": 300
    },
    "id": "qaAyHPgJvGyo",
    "outputId": "c258d27c-9d2b-4349-c475-f409d9ca68fc"
   },
   "outputs": [],
   "source": [
    "# load best model\n",
    "best_model = load_model('weights.best.hdf5', custom_objects={'my_iou_metric': my_iou_metric})\n",
    "\n",
    "print(\"Predicting\\n\")\n",
    "pred_train = best_model.predict(train_img, verbose=1)\n",
    "pred_val = best_model.predict(val_img, verbose=1)\n",
    "pred_test = best_model.predict(test_img, verbose=1)\n",
    "# Compile model (required to make predictions)\n",
    "# u_net.compile(loss='binary_crossentropy', optimizer='adam', metrics=[my_iou_metric])"
   ]
  },
  {
   "cell_type": "code",
   "execution_count": null,
   "metadata": {
    "colab": {
     "autoexec": {
      "startup": false,
      "wait_interval": 0
     },
     "base_uri": "https://localhost:8080/",
     "height": 365,
     "output_extras": [
      {
       "item_id": 1
      },
      {
       "item_id": 2
      }
     ]
    },
    "colab_type": "code",
    "executionInfo": {
     "elapsed": 1182,
     "status": "ok",
     "timestamp": 1521325158524,
     "user": {
      "displayName": "Suiyi Fu",
      "photoUrl": "//lh4.googleusercontent.com/-T0YYqLtiLj8/AAAAAAAAAAI/AAAAAAAAAIw/fU_S3Yy9EtU/s50-c-k-no/photo.jpg",
      "userId": "115751399754875551592"
     },
     "user_tz": 300
    },
    "id": "byua3OAe5xyT",
    "outputId": "f3c7eb1c-29dd-4b6d-d4bb-6ed572b7e141"
   },
   "outputs": [],
   "source": [
    "%matplotlib inline\n",
    "import matplotlib.pyplot as plt \n",
    "idx = np.random.choice(range(len(val_img)))\n",
    "plt.figure(figsize=(12,12))\n",
    "plt.subplot(131)\n",
    "imshow(val_img[idx])\n",
    "plt.title(\"val image\")\n",
    "plt.subplot(132)\n",
    "imshow(np.squeeze(val_mask[idx]))\n",
    "plt.title(\"val mask\")\n",
    "plt.subplot(133)\n",
    "imshow(np.squeeze(pred_val[idx] > 0.5))\n",
    "plt.title(\"val predictions\")\n",
    "plt.show()"
   ]
  },
  {
   "cell_type": "code",
   "execution_count": null,
   "metadata": {
    "colab": {
     "autoexec": {
      "startup": false,
      "wait_interval": 0
     },
     "base_uri": "https://localhost:8080/",
     "height": 239,
     "output_extras": [
      {
       "item_id": 1
      },
      {
       "item_id": 2
      }
     ]
    },
    "colab_type": "code",
    "executionInfo": {
     "elapsed": 346,
     "status": "ok",
     "timestamp": 1521325220346,
     "user": {
      "displayName": "Suiyi Fu",
      "photoUrl": "//lh4.googleusercontent.com/-T0YYqLtiLj8/AAAAAAAAAAI/AAAAAAAAAIw/fU_S3Yy9EtU/s50-c-k-no/photo.jpg",
      "userId": "115751399754875551592"
     },
     "user_tz": 300
    },
    "id": "ZX12gOtumfA7",
    "outputId": "20997972-f724-41ee-e6ad-3c74a2ec3395"
   },
   "outputs": [],
   "source": [
    "idx = np.random.choice(range(len(val_img)))\n",
    "\n",
    "iou_metric(np.squeeze(val_mask[idx]), np.squeeze(pred_val[idx]), print_table=True)"
   ]
  },
  {
   "cell_type": "code",
   "execution_count": null,
   "metadata": {
    "colab": {
     "autoexec": {
      "startup": false,
      "wait_interval": 0
     },
     "base_uri": "https://localhost:8080/",
     "height": 510,
     "output_extras": [
      {
       "item_id": 1
      },
      {
       "item_id": 2
      }
     ]
    },
    "colab_type": "code",
    "executionInfo": {
     "elapsed": 1055,
     "status": "ok",
     "timestamp": 1521325271957,
     "user": {
      "displayName": "Suiyi Fu",
      "photoUrl": "//lh4.googleusercontent.com/-T0YYqLtiLj8/AAAAAAAAAAI/AAAAAAAAAIw/fU_S3Yy9EtU/s50-c-k-no/photo.jpg",
      "userId": "115751399754875551592"
     },
     "user_tz": 300
    },
    "id": "rraEGeNgtIJd",
    "outputId": "82726b6c-3cd7-4357-c2ee-d191832cc654"
   },
   "outputs": [],
   "source": [
    "idx = np.random.choice(range(len(test_img)))\n",
    "plt.figure(figsize=(12,12))\n",
    "plt.subplot(121)\n",
    "imshow(test_img[idx])\n",
    "plt.title(\"Image\")\n",
    "plt.subplot(122)\n",
    "imshow(np.squeeze(pred_test[idx] > 0.5))\n",
    "plt.title(\"Mask Prediction\")\n",
    "plt.show()"
   ]
  },
  {
   "cell_type": "markdown",
   "metadata": {
    "colab_type": "text",
    "id": "ioE7YrU4F6AF"
   },
   "source": [
    "# Train with data augmentation"
   ]
  },
  {
   "cell_type": "code",
   "execution_count": null,
   "metadata": {
    "colab": {
     "autoexec": {
      "startup": false,
      "wait_interval": 0
     }
    },
    "colab_type": "code",
    "id": "IE8-rOjtFwrs"
   },
   "outputs": [],
   "source": [
    "from keras.preprocessing.image import ImageDataGenerator\n",
    "data_gen_arg = dict(shear_range=0.5, \n",
    "                    rotation_range=50, \n",
    "                    zoom_range=0.2, \n",
    "                    width_shift_range=0.2, \n",
    "                    height_shift_range=0.2,\n",
    "                    horizontal_flip=True,\n",
    "                    vertical_flip=True,\n",
    "                    fill_mode='reflect')\n",
    "\n",
    "\n",
    "img_datagen = ImageDataGenerator(**data_gen_arg)\n",
    "mask_datagen = ImageDataGenerator(**data_gen_arg)\n",
    "img_datagen.fit(train_img, augment=True, seed=SEED)\n",
    "mask_datagen.fit(train_mask, augment=True, seed=SEED)\n",
    "\n",
    "x = img_datagen.flow(train_img, batch_size=BATCH_SIZE, shuffle=True, seed=SEED)\n",
    "y = mask_datagen.flow(train_mask, batch_size=BATCH_SIZE, shuffle=True, seed=SEED)\n",
    "\n",
    "img_datagen_val = ImageDataGenerator()\n",
    "mask_datagen_val = ImageDataGenerator()\n",
    "img_datagen_val.fit(val_img, augment=True, seed=SEED)\n",
    "mask_datagen_val.fit(val_mask, augment=True, seed=SEED)\n",
    "\n",
    "x_val = img_datagen_val.flow(val_img, batch_size=BATCH_SIZE, shuffle=True, seed=SEED)\n",
    "y_val = img_datagen_val.flow(val_mask, batch_size=BATCH_SIZE, shuffle=True, seed=SEED)\n",
    "\n",
    "train_generator = zip(x, y)\n",
    "val_generator = zip(x_val, y_val)"
   ]
  },
  {
   "cell_type": "markdown",
   "metadata": {
    "colab_type": "text",
    "id": "2niuJcNlCLr3"
   },
   "source": [
    "# Visualizations of augmented image and mask"
   ]
  },
  {
   "cell_type": "code",
   "execution_count": null,
   "metadata": {
    "colab": {
     "autoexec": {
      "startup": false,
      "wait_interval": 0
     }
    },
    "colab_type": "code",
    "id": "BnivfKxwAp_J"
   },
   "outputs": [],
   "source": [
    "tempx = x.next()\n",
    "tempy = y.next()\n",
    "tempx_val = x_val.next()\n",
    "tempy_val = y_val.next()"
   ]
  },
  {
   "cell_type": "code",
   "execution_count": null,
   "metadata": {
    "colab": {
     "autoexec": {
      "startup": false,
      "wait_interval": 0
     },
     "base_uri": "https://localhost:8080/",
     "height": 1510,
     "output_extras": [
      {
       "item_id": 1
      },
      {
       "item_id": 2
      },
      {
       "item_id": 3
      }
     ]
    },
    "colab_type": "code",
    "executionInfo": {
     "elapsed": 2097,
     "status": "ok",
     "timestamp": 1521326268084,
     "user": {
      "displayName": "Suiyi Fu",
      "photoUrl": "//lh4.googleusercontent.com/-T0YYqLtiLj8/AAAAAAAAAAI/AAAAAAAAAIw/fU_S3Yy9EtU/s50-c-k-no/photo.jpg",
      "userId": "115751399754875551592"
     },
     "user_tz": 300
    },
    "id": "Aibuhd8m_9D8",
    "outputId": "816bb165-12ac-488c-86a1-49698b344154"
   },
   "outputs": [],
   "source": [
    "%matplotlib inline\n",
    "import matplotlib.pyplot as plt\n",
    "for i in range(2):\n",
    "  plt.figure(figsize=(10,10))\n",
    "  plt.subplot(221)\n",
    "  imshow(tempx[i].astype(np.uint8))\n",
    "  plt.title(\"train aug image\")\n",
    "  plt.subplot(222)\n",
    "  imshow(np.squeeze(tempy[i]))\n",
    "  plt.title(\"train aug mask\")\n",
    "\n",
    "  plt.subplot(223)\n",
    "  imshow(tempx_val[i].astype(np.uint8))\n",
    "  plt.title(\"val aug image\")\n",
    "  plt.subplot(224)\n",
    "  imshow(np.squeeze(tempy_val[i]))\n",
    "  plt.title(\"val aug mask\")\n",
    "  plt.show()"
   ]
  },
  {
   "cell_type": "markdown",
   "metadata": {
    "colab_type": "text",
    "id": "8CZ1cJm7Gwxl"
   },
   "source": [
    "# Fit model with data augmentation"
   ]
  },
  {
   "cell_type": "code",
   "execution_count": null,
   "metadata": {
    "colab": {
     "autoexec": {
      "startup": false,
      "wait_interval": 0
     },
     "base_uri": "https://localhost:8080/",
     "height": 2571,
     "output_extras": [
      {
       "item_id": 164
      },
      {
       "item_id": 277
      },
      {
       "item_id": 441
      },
      {
       "item_id": 616
      },
      {
       "item_id": 757
      },
      {
       "item_id": 900
      },
      {
       "item_id": 1072
      },
      {
       "item_id": 1159
      }
     ]
    },
    "colab_type": "code",
    "executionInfo": {
     "elapsed": 821531,
     "status": "ok",
     "timestamp": 1521327259487,
     "user": {
      "displayName": "Suiyi Fu",
      "photoUrl": "//lh4.googleusercontent.com/-T0YYqLtiLj8/AAAAAAAAAAI/AAAAAAAAAIw/fU_S3Yy9EtU/s50-c-k-no/photo.jpg",
      "userId": "115751399754875551592"
     },
     "user_tz": 300
    },
    "id": "FeQgAl-1F4md",
    "outputId": "abebebc7-05fd-4310-804f-f35b93bf90de"
   },
   "outputs": [],
   "source": [
    "# get u_net model\n",
    "u_net_aug = get_unet()\n",
    "filepath=\"aug.weights.best.hdf5\"\n",
    "earlystopper = EarlyStopping(monitor='val_loss', patience=5, verbose=1)\n",
    "checkpointer = ModelCheckpoint(filepath, monitor='val_my_iou_metric',\n",
    "                               verbose=1, save_best_only=True, mode='max')\n",
    "results_aug = u_net_aug.fit_generator(train_generator, validation_data=val_generator, \n",
    "                    steps_per_epoch=train_size/BATCH_SIZE, validation_steps=val_size/BATCH_SIZE,\n",
    "                   epochs=EPOCHS, callbacks=[earlystopper, checkpointer])"
   ]
  },
  {
   "cell_type": "code",
   "execution_count": null,
   "metadata": {
    "colab": {
     "autoexec": {
      "startup": false,
      "wait_interval": 0
     },
     "base_uri": "https://localhost:8080/",
     "height": 531,
     "output_extras": [
      {
       "item_id": 1
      },
      {
       "item_id": 2
      },
      {
       "item_id": 3
      }
     ]
    },
    "colab_type": "code",
    "executionInfo": {
     "elapsed": 912,
     "status": "ok",
     "timestamp": 1521327506658,
     "user": {
      "displayName": "Suiyi Fu",
      "photoUrl": "//lh4.googleusercontent.com/-T0YYqLtiLj8/AAAAAAAAAAI/AAAAAAAAAIw/fU_S3Yy9EtU/s50-c-k-no/photo.jpg",
      "userId": "115751399754875551592"
     },
     "user_tz": 300
    },
    "id": "dr8AwS-VLwrv",
    "outputId": "c736ac98-5419-4cf3-d0b7-eb7582590d59"
   },
   "outputs": [],
   "source": [
    "%matplotlib inline\n",
    "import matplotlib.pyplot as plt \n",
    "loss = results_aug.history['loss']\n",
    "val_loss = results_aug.history['val_loss']\n",
    "acc = results_aug.history['my_iou_metric']\n",
    "val_acc = results_aug.history['val_my_iou_metric']\n",
    "plt.figure()\n",
    "plt.plot(np.arange(len(loss)), np.array(loss), label='train loss')\n",
    "plt.plot(np.arange(len(val_loss)), np.array(val_loss), label='val loss')\n",
    "plt.legend(loc=1)\n",
    "\n",
    "plt.figure()\n",
    "plt.plot(np.arange(len(acc)), np.array(acc), label='train acc')\n",
    "plt.plot(np.arange(len(val_acc)), np.array(val_acc), label='val acc')\n",
    "plt.legend(loc=4)"
   ]
  },
  {
   "cell_type": "code",
   "execution_count": null,
   "metadata": {
    "colab": {
     "autoexec": {
      "startup": false,
      "wait_interval": 0
     },
     "base_uri": "https://localhost:8080/",
     "height": 86,
     "output_extras": [
      {
       "item_id": 24
      }
     ]
    },
    "colab_type": "code",
    "executionInfo": {
     "elapsed": 14313,
     "status": "ok",
     "timestamp": 1521327544980,
     "user": {
      "displayName": "Suiyi Fu",
      "photoUrl": "//lh4.googleusercontent.com/-T0YYqLtiLj8/AAAAAAAAAAI/AAAAAAAAAIw/fU_S3Yy9EtU/s50-c-k-no/photo.jpg",
      "userId": "115751399754875551592"
     },
     "user_tz": 300
    },
    "id": "CU_FdSIiLkSa",
    "outputId": "7eafd8d6-ccd7-4d73-ea97-b9356482494d"
   },
   "outputs": [],
   "source": [
    "# load best model\n",
    "best_model_aug = load_model('aug.weights.best.hdf5', custom_objects={'my_iou_metric': my_iou_metric})\n",
    "\n",
    "print(\"Predicting\")\n",
    "pred_train = best_model_aug.predict(train_img, verbose=1)\n",
    "pred_val = best_model_aug.predict(val_img, verbose=1)\n",
    "pred_test = best_model_aug.predict(test_img, verbose=1)"
   ]
  },
  {
   "cell_type": "code",
   "execution_count": null,
   "metadata": {
    "colab": {
     "autoexec": {
      "startup": false,
      "wait_interval": 0
     },
     "base_uri": "https://localhost:8080/",
     "height": 365,
     "output_extras": [
      {
       "item_id": 1
      },
      {
       "item_id": 2
      }
     ]
    },
    "colab_type": "code",
    "executionInfo": {
     "elapsed": 840,
     "status": "ok",
     "timestamp": 1521327581236,
     "user": {
      "displayName": "Suiyi Fu",
      "photoUrl": "//lh4.googleusercontent.com/-T0YYqLtiLj8/AAAAAAAAAAI/AAAAAAAAAIw/fU_S3Yy9EtU/s50-c-k-no/photo.jpg",
      "userId": "115751399754875551592"
     },
     "user_tz": 300
    },
    "id": "BXC6cZcLMCG-",
    "outputId": "8a6febd2-72b0-4907-b4a4-2bf91e0b08ce"
   },
   "outputs": [],
   "source": [
    "%matplotlib inline\n",
    "import matplotlib.pyplot as plt \n",
    "idx = np.random.choice(range(len(val_img)))\n",
    "plt.figure(figsize=(12,12))\n",
    "plt.subplot(131)\n",
    "imshow(val_img[idx])\n",
    "plt.title(\"val image\")\n",
    "plt.subplot(132)\n",
    "imshow(np.squeeze(val_mask[idx]))\n",
    "plt.title(\"val mask\")\n",
    "plt.subplot(133)\n",
    "imshow(np.squeeze(pred_val[idx] > 0.5))\n",
    "plt.title(\"val predictions\")\n",
    "plt.show()"
   ]
  },
  {
   "cell_type": "code",
   "execution_count": null,
   "metadata": {
    "colab": {
     "autoexec": {
      "startup": false,
      "wait_interval": 0
     }
    },
    "colab_type": "code",
    "id": "vRnRrINTlesv"
   },
   "outputs": [],
   "source": [
    "# Run-length encoding stolen from https://www.kaggle.com/rakhlin/fast-run-length-encoding-python\n",
    "def rle_encoding(x):\n",
    "    dots = np.where(x.T.flatten() == 1)[0]\n",
    "    run_lengths = []\n",
    "    prev = -2\n",
    "    for b in dots:\n",
    "        if (b>prev+1): run_lengths.extend((b + 1, 0))\n",
    "        run_lengths[-1] += 1\n",
    "        prev = b\n",
    "    return run_lengths\n",
    "\n",
    "def prob_to_rles(x, cutoff=0.5):\n",
    "    lab_img = label(x > cutoff)\n",
    "    for i in range(1, lab_img.max() + 1):\n",
    "        yield rle_encoding(lab_img == i)"
   ]
  },
  {
   "cell_type": "code",
   "execution_count": null,
   "metadata": {
    "colab": {
     "autoexec": {
      "startup": false,
      "wait_interval": 0
     }
    },
    "colab_type": "code",
    "id": "Ht3SzU6Dlesz"
   },
   "outputs": [],
   "source": [
    "# Iterate over the test IDs and generate run-length encodings for each seperate mask identified by skimage\n",
    "def mask_to_rle(preds_test_upsampled):\n",
    "    new_test_ids = []\n",
    "    rles = []\n",
    "    for n, id_ in enumerate(test_ids):\n",
    "        rle = list(prob_to_rles(preds_test_upsampled[n]))\n",
    "        rles.extend(rle)\n",
    "        new_test_ids.extend([id_] * len(rle))\n",
    "    return new_test_ids,rles"
   ]
  },
  {
   "cell_type": "code",
   "execution_count": null,
   "metadata": {
    "colab": {
     "autoexec": {
      "startup": false,
      "wait_interval": 0
     }
    },
    "colab_type": "code",
    "id": "5ZA32hQ_letM"
   },
   "outputs": [],
   "source": [
    "# Create list of upsampled test masks\n",
    "test_mask_upsampled = []\n",
    "for i in range(len(pred_test)):\n",
    "    test_mask_upsampled.append(resize(np.squeeze(pred_test[i]),\n",
    "                                       (test_img_sizes[i][0],test_img_sizes[i][1]), \n",
    "                                       mode='constant', preserve_range=True))"
   ]
  },
  {
   "cell_type": "code",
   "execution_count": null,
   "metadata": {
    "colab": {
     "autoexec": {
      "startup": false,
      "wait_interval": 0
     }
    },
    "colab_type": "code",
    "id": "bGt6xlmxletQ"
   },
   "outputs": [],
   "source": [
    "test_ids,rles = mask_to_rle(test_mask_upsampled)"
   ]
  },
  {
   "cell_type": "code",
   "execution_count": null,
   "metadata": {
    "colab": {
     "autoexec": {
      "startup": false,
      "wait_interval": 0
     }
    },
    "colab_type": "code",
    "id": "Xp5PtooMletT"
   },
   "outputs": [],
   "source": [
    "# Create submission DataFrame\n",
    "sub = pd.DataFrame()\n",
    "sub['ImageId'] = test_ids\n",
    "sub['EncodedPixels'] = pd.Series(rles).apply(lambda x: ' '.join(str(y) for y in x))\n",
    "\n",
    "sub.to_csv('sub-dsbowl2018.csv', index=False)"
   ]
  },
  {
   "cell_type": "code",
   "execution_count": null,
   "metadata": {
    "colab": {
     "autoexec": {
      "startup": false,
      "wait_interval": 0
     }
    },
    "colab_type": "code",
    "id": "1AKS10TLletU"
   },
   "outputs": [],
   "source": [
    "# Code to download files from Google colab\n",
    "\n",
    "from google.colab import files\n",
    "\n",
    "files.download('sub-dsbowl2018.csv')\n",
    "files.download('weights.best.hdf5')"
   ]
  },
  {
   "cell_type": "code",
   "execution_count": null,
   "metadata": {
    "colab": {
     "autoexec": {
      "startup": false,
      "wait_interval": 0
     }
    },
    "colab_type": "code",
    "id": "unKt_U6fudW9"
   },
   "outputs": [],
   "source": [
    "files.download('aug.weights.best.hdf5')"
   ]
  },
  {
   "cell_type": "code",
   "execution_count": null,
   "metadata": {
    "colab": {
     "autoexec": {
      "startup": false,
      "wait_interval": 0
     }
    },
    "colab_type": "code",
    "id": "frpVSIDWNRX_"
   },
   "outputs": [],
   "source": []
  }
 ],
 "metadata": {
  "accelerator": "GPU",
  "colab": {
   "collapsed_sections": [],
   "default_view": {},
   "name": "finalproject.ipynb",
   "provenance": [],
   "version": "0.3.2",
   "views": {}
  },
  "kernelspec": {
   "display_name": "Python 3",
   "language": "python",
   "name": "python3"
  },
  "language_info": {
   "codemirror_mode": {
    "name": "ipython",
    "version": 3
   },
   "file_extension": ".py",
   "mimetype": "text/x-python",
   "name": "python",
   "nbconvert_exporter": "python",
   "pygments_lexer": "ipython3",
   "version": "3.6.4"
  }
 },
 "nbformat": 4,
 "nbformat_minor": 2
}
